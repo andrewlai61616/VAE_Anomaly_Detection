{
 "cells": [
  {
   "cell_type": "markdown",
   "id": "fcb4c9a5",
   "metadata": {},
   "source": [
    "# Implementing Vanilla VAE on FashionMNIST dataset"
   ]
  },
  {
   "cell_type": "code",
   "execution_count": 4,
   "id": "9c4a7941",
   "metadata": {},
   "outputs": [],
   "source": [
    "\n",
    "import os, sys\n",
    "\n",
    "import torch\n",
    "\n",
    "from models import vanilla_vae"
   ]
  },
  {
   "cell_type": "code",
   "execution_count": 5,
   "id": "5cf91304",
   "metadata": {},
   "outputs": [
    {
     "name": "stderr",
     "output_type": "stream",
     "text": [
      "Using device: cuda:0\n"
     ]
    }
   ],
   "source": [
    "device = torch.device('cuda:0')\n",
    "print('Using device:', device, file=sys.stderr)"
   ]
  },
  {
   "cell_type": "code",
   "execution_count": null,
   "id": "f50ab4a4",
   "metadata": {},
   "outputs": [],
   "source": [
    "\n",
    "enc = vanilla_vae.Encoder()"
   ]
  }
 ],
 "metadata": {
  "kernelspec": {
   "display_name": "Python 3 (ipykernel)",
   "language": "python",
   "name": "python3"
  },
  "language_info": {
   "codemirror_mode": {
    "name": "ipython",
    "version": 3
   },
   "file_extension": ".py",
   "mimetype": "text/x-python",
   "name": "python",
   "nbconvert_exporter": "python",
   "pygments_lexer": "ipython3",
   "version": "3.9.7"
  }
 },
 "nbformat": 4,
 "nbformat_minor": 5
}
